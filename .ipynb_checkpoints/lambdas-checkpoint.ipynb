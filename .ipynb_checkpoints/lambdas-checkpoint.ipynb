{
 "cells": [
  {
   "cell_type": "code",
   "execution_count": 1,
   "metadata": {},
   "outputs": [],
   "source": [
    "%load_ext autoreload\n",
    "%autoreload 2\n"
   ]
  },
  {
   "cell_type": "code",
   "execution_count": 2,
   "metadata": {},
   "outputs": [
    {
     "name": "stderr",
     "output_type": "stream",
     "text": [
      "C:\\Users\\zdesi\\anaconda3\\lib\\site-packages\\paramiko\\transport.py:219: CryptographyDeprecationWarning: Blowfish has been deprecated\n",
      "  \"class\": algorithms.Blowfish,\n"
     ]
    }
   ],
   "source": [
    "import arbitrage_main\n",
    "from sqlalchemy import create_engine\n",
    "from sshtunnel import SSHTunnelForwarder"
   ]
  },
  {
   "cell_type": "code",
   "execution_count": 12,
   "metadata": {},
   "outputs": [],
   "source": [
    "ip = \"147.32.83.171\"\n",
    "ssh_tunnel = SSHTunnelForwarder(\n",
    "    ip,\n",
    "        ssh_username='syrovzde',\n",
    "        ssh_private_key='C:\\\\Users\\\\zdesi\\\\.ssh\\\\syrovzde_rsa',\n",
    "        remote_bind_address=('localhost', 5432)\n",
    "    )\n",
    "ssh_tunnel.start()\n",
    "result_engine = create_engine(\"postgresql://{user}@{host}:{port}/{db}\".format(\n",
    "        host='localhost',\n",
    "        port=ssh_tunnel.local_bind_port,\n",
    "        user='syrovzde',\n",
    "        db='betexplorer'\n",
    "    ))\n",
    "engine = create_engine(\"postgresql://{user}@{host}:{port}/{db}\".format(\n",
    "        host='localhost',\n",
    "        port=ssh_tunnel.local_bind_port,\n",
    "        user='syrovzde',\n",
    "        db='asianodds'\n",
    "    ))"
   ]
  },
  {
   "cell_type": "code",
   "execution_count": null,
   "metadata": {
    "pycharm": {
     "is_executing": true
    }
   },
   "outputs": [],
   "source": [
    "f = open(\"txt_files/found_arb.txt\")\n",
    "ids = f.read()\n",
    "ids = ids.split(\"\\n\")\n",
    "ids = [i for i in ids[:-1]]\n",
    "\n",
    "c=arbitrage_main.test_lambda_correlation(match_ids=ids,res_engine=result_engine,engine=engine)"
   ]
  }
 ],
 "metadata": {
  "kernelspec": {
   "display_name": "Python 3",
   "language": "python",
   "name": "python3"
  },
  "language_info": {
   "codemirror_mode": {
    "name": "ipython",
    "version": 3
   },
   "file_extension": ".py",
   "mimetype": "text/x-python",
   "name": "python",
   "nbconvert_exporter": "python",
   "pygments_lexer": "ipython3",
   "version": "3.8.3"
  }
 },
 "nbformat": 4,
 "nbformat_minor": 1
}
