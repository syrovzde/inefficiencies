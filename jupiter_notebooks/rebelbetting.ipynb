{
 "cells": [
  {
   "cell_type": "code",
   "execution_count": 2,
   "metadata": {
    "collapsed": true
   },
   "outputs": [],
   "source": [
    "import matplotlib.pyplot as plt\n",
    "%load_ext autoreload\n",
    "%autoreload 2\n",
    "import pandas as pd"
   ]
  },
  {
   "cell_type": "code",
   "execution_count": null,
   "outputs": [],
   "source": [
    "df = pd.read_csv(\"C:\\\\Users\\zdesi\\PycharmProjects\\inefficiencies\\csv_files\\RebelBetting.csv\")\n",
    "df = df[df['BetType']== 'Arb']\n",
    "print(df.keys())\n",
    "print(len(abs(df['Profit'].to_numpy())))\n",
    "plt.subplots(figsize=(7,5))\n",
    "plt.ylabel('Profit')\n",
    "plt.title('Rebelbetting profits')\n",
    "plt.boxplot(abs(df['Profit']),labels=['RebelBetting'])\n",
    "plt.savefig('rebel.png')\n",
    "plt.show()"
   ],
   "metadata": {
    "collapsed": false
   }
  },
  {
   "cell_type": "code",
   "execution_count": null,
   "outputs": [],
   "source": [],
   "metadata": {
    "collapsed": false
   }
  },
  {
   "cell_type": "code",
   "execution_count": 6,
   "outputs": [
    {
     "name": "stdout",
     "output_type": "stream",
     "text": [
      "0            Threeway\n",
      "1            Threeway\n",
      "2       AsianHandicap\n",
      "3            Threeway\n",
      "4       AsianHandicap\n",
      "            ...      \n",
      "1524         Threeway\n",
      "1525        OverUnder\n",
      "1526        OverUnder\n",
      "1527    AsianHandicap\n",
      "1528        OverUnder\n",
      "Name: OddsType, Length: 79, dtype: object\n",
      "0            Threeway\n",
      "1            Threeway\n",
      "2            Threeway\n",
      "3       AsianHandicap\n",
      "4            Threeway\n",
      "            ...      \n",
      "1524    AsianHandicap\n",
      "1525        OverUnder\n",
      "1526        OverUnder\n",
      "1527    AsianHandicap\n",
      "1528        OverUnder\n",
      "Name: OddsType2, Length: 79, dtype: object\n"
     ]
    }
   ],
   "source": [],
   "metadata": {
    "collapsed": false
   }
  }
 ],
 "metadata": {
  "kernelspec": {
   "display_name": "Python 3",
   "language": "python",
   "name": "python3"
  },
  "language_info": {
   "codemirror_mode": {
    "name": "ipython",
    "version": 2
   },
   "file_extension": ".py",
   "mimetype": "text/x-python",
   "name": "python",
   "nbconvert_exporter": "python",
   "pygments_lexer": "ipython2",
   "version": "2.7.6"
  }
 },
 "nbformat": 4,
 "nbformat_minor": 0
}
