{
 "cells": [
  {
   "cell_type": "code",
   "execution_count": 1,
   "metadata": {
    "collapsed": true
   },
   "outputs": [],
   "source": [
    "%load_ext autoreload\n",
    "%autoreload 2\n",
    "import pandas as pd"
   ]
  },
  {
   "cell_type": "code",
   "execution_count": 22,
   "outputs": [
    {
     "name": "stdout",
     "output_type": "stream",
     "text": [
      "Index(['BetPlacedUTC', 'MatchStartUTC', 'BetType', 'EventName', 'Participant1',\n",
      "       'Participant2', 'Sport', 'Percentage', 'CLVPercentage',\n",
      "       'PercentageOutcome', 'OddsType', 'OddsType2', 'OddsType3', 'Outcome',\n",
      "       'Outcome2', 'Outcome3', 'Limit', 'Limit2', 'Limit3', 'Lay', 'Lay2',\n",
      "       'Lay3', 'Bookmaker', 'Bookmaker2', 'Bookmaker3', 'Stake', 'Odds',\n",
      "       'Odds2', 'Odds3', 'Result', 'Profit', 'MinutesToMatchStart',\n",
      "       'KellyPercentage', 'MaxStakePercentage', 'CalculatedOdds',\n",
      "       'CalculatedOdds2', 'CalculatedOdds3', 'ResultBet1', 'ResultBet2',\n",
      "       'ResultBet3', 'StakeBet1', 'StakeBet2', 'StakeBet3', 'ProfitBet1',\n",
      "       'ProfitBet2', 'ProfitBet3', 'GameLengthRule', 'GameCountRule',\n",
      "       'GameCountRule2', 'GameCountRule3', 'ManuallyGraded', 'ManuallyGraded2',\n",
      "       'ManuallyGraded3', 'ID'],\n",
      "      dtype='object')\n"
     ]
    }
   ],
   "source": [
    "df = pd.read_csv(\"RebelBetting.csv\")\n",
    "df = df[df['BetType']== 'Arb']\n",
    "print(df.keys())\n",
    "#df[\"Percentage\"].plot.box(title=\"Percentage\")"
   ],
   "metadata": {
    "collapsed": false
   }
  }
 ],
 "metadata": {
  "kernelspec": {
   "display_name": "Python 3",
   "language": "python",
   "name": "python3"
  },
  "language_info": {
   "codemirror_mode": {
    "name": "ipython",
    "version": 2
   },
   "file_extension": ".py",
   "mimetype": "text/x-python",
   "name": "python",
   "nbconvert_exporter": "python",
   "pygments_lexer": "ipython2",
   "version": "2.7.6"
  }
 },
 "nbformat": 4,
 "nbformat_minor": 0
}
