{
 "cells": [
  {
   "cell_type": "code",
   "execution_count": 1,
   "metadata": {
    "collapsed": true
   },
   "outputs": [],
   "source": [
    "%load_ext autoreload\n",
    "%autoreload 2\n",
    "\n"
   ]
  },
  {
   "cell_type": "code",
   "execution_count": 2,
   "outputs": [
    {
     "name": "stderr",
     "output_type": "stream",
     "text": [
      "C:\\Users\\zdesi\\anaconda3\\lib\\site-packages\\paramiko\\transport.py:219: CryptographyDeprecationWarning: Blowfish has been deprecated\n",
      "  \"class\": algorithms.Blowfish,\n"
     ]
    }
   ],
   "source": [
    "from sqlalchemy import create_engine\n",
    "from sshtunnel import SSHTunnelForwarder\n",
    "import testing\n",
    "import matplotlib.pyplot as plt\n",
    "from time import time\n",
    "import numpy as np\n",
    "ip = \"147.32.83.171\""
   ],
   "metadata": {
    "collapsed": false
   }
  },
  {
   "cell_type": "code",
   "execution_count": 9,
   "outputs": [
    {
     "name": "stdout",
     "output_type": "stream",
     "text": [
      "completed\n"
     ]
    }
   ],
   "source": [
    "f = open(\"found_arb.txt\")\n",
    "ids = f.read()\n",
    "ids = ids.split(\"\\n\")\n",
    "ids = [i for i in ids[:-1]]\n",
    "\n",
    "ssh_tunnel = SSHTunnelForwarder(\n",
    "    ip,\n",
    "        ssh_username='syrovzde',\n",
    "        ssh_private_key='C:\\\\Users\\\\zdesi\\\\.ssh\\\\syrovzde_rsa',\n",
    "        remote_bind_address=('localhost', 5432)\n",
    "    )\n",
    "ssh_tunnel.start()\n",
    "engine = create_engine(\"postgresql://{user}@{host}:{port}/{db}\".format(\n",
    "        host='localhost',\n",
    "        port=ssh_tunnel.local_bind_port,\n",
    "        user='syrovzde',\n",
    "        db='asianodds'\n",
    "    ))\n",
    "result_engine = create_engine(\"postgresql://{user}@{host}:{port}/{db}\".format(\n",
    "        host='localhost',\n",
    "        port=ssh_tunnel.local_bind_port,\n",
    "        user='syrovzde',\n",
    "        db='betexplorer'\n",
    "    ))\n",
    "print(\"completed\")\n"
   ],
   "metadata": {
    "collapsed": false
   }
  },
  {
   "cell_type": "code",
   "execution_count": 10,
   "outputs": [],
   "source": [
    "matchids = []\n",
    "for i in ids:\n",
    "    if i not in matchids:\n",
    "        matchids.append(i)"
   ],
   "metadata": {
    "collapsed": false
   }
  },
  {
   "cell_type": "code",
   "execution_count": 11,
   "outputs": [
    {
     "name": "stdout",
     "output_type": "stream",
     "text": [
      "84\n",
      "Academic license - for non-commercial use only - expires 2023-11-03\n",
      "Using license file C:\\Users\\zdesi\\gurobi.lic\n"
     ]
    }
   ],
   "source": [
    "profits,betting_vectors,arb_ids=testing.test(p=1,matchids=matchids,res_engine=result_engine,engine=engine)\n"
   ],
   "metadata": {
    "collapsed": false
   }
  },
  {
   "cell_type": "code",
   "execution_count": 21,
   "outputs": [
    {
     "data": {
      "text/plain": "<Figure size 432x288 with 1 Axes>",
      "image/png": "[encoded data removed]"
     },
     "metadata": {
      "needs_background": "light"
     },
     "output_type": "display_data"
    }
   ],
   "source": [
    "\n",
    "\n",
    "\n",
    "last_arb = 0\n",
    "hist = []\n",
    "count = 0\n",
    "for arb in arb_ids:\n",
    "    if count == 0:\n",
    "        count = 1\n",
    "        last_arb = arb\n",
    "        continue\n",
    "    if last_arb == arb:\n",
    "        count += 1\n",
    "        last_arb = arb\n",
    "        continue\n",
    "    hist.append(count)\n",
    "    count = 1\n",
    "    last_arb = arb\n",
    "\n",
    "\n",
    "plt.hist(hist)\n",
    "plt.title(\"Amount of arbitrages per match\")\n",
    "plt.show()\n"
   ],
   "metadata": {
    "collapsed": false
   }
  },
  {
   "cell_type": "code",
   "execution_count": 24,
   "outputs": [
    {
     "data": {
      "text/plain": "<Figure size 432x288 with 1 Axes>",
      "image/png": "[encoded data removed]"
     },
     "metadata": {
      "needs_background": "light"
     },
     "output_type": "display_data"
    }
   ],
   "source": [
    "values = []\n",
    "for i in range(len(profits)):\n",
    "    values.append(profits[i]/sum(betting_vectors[i]))\n",
    "\n",
    "plt.boxplot(values)\n",
    "plt.title(\"Profits from the bets unweighted variant\")\n",
    "plt.show()"
   ],
   "metadata": {
    "collapsed": false
   }
  },
  {
   "cell_type": "code",
   "execution_count": 40,
   "outputs": [
    {
     "name": "stdout",
     "output_type": "stream",
     "text": [
      "84\n"
     ]
    },
    {
     "data": {
      "text/plain": "<Figure size 432x288 with 1 Axes>",
      "image/png": "[encoded data removed]"
     },
     "metadata": {
      "needs_background": "light"
     },
     "output_type": "display_data"
    }
   ],
   "source": [
    "profits_w,betting_vectors_w,arb_ids_w=testing.test(p=1,matchids=matchids,res_engine=result_engine,engine=engine,weighted=True)\n",
    "\n",
    "values_w = []\n",
    "for i in range(len(profits_w)):\n",
    "    values_w.append(profits_w[i]/sum(betting_vectors_w[i]))\n",
    "\n",
    "plt.boxplot(values_w)\n",
    "plt.title(\"Profits from the  global weights variant\")\n",
    "plt.show()\n",
    "#logarithmic scale"
   ],
   "metadata": {
    "collapsed": false
   }
  },
  {
   "cell_type": "code",
   "execution_count": 29,
   "outputs": [
    {
     "data": {
      "text/plain": "<matplotlib.axes._subplots.AxesSubplot at 0x213d2b9b8b0>"
     },
     "execution_count": 29,
     "metadata": {},
     "output_type": "execute_result"
    },
    {
     "data": {
      "text/plain": "<Figure size 432x288 with 1 Axes>",
      "image/png": "[encoded data removed]"
     },
     "metadata": {
      "needs_background": "light"
     },
     "output_type": "display_data"
    }
   ],
   "source": [
    "import pandas as pd\n",
    "df = pd.read_csv(\"RebelBetting.csv\")\n",
    "df = df[df['BetType']== 'Arb']\n",
    "df[\"Percentage\"].plot.box(title='Rebelbetting')"
   ],
   "metadata": {
    "collapsed": false
   }
  },
  {
   "cell_type": "code",
   "execution_count": 39,
   "outputs": [
    {
     "name": "stdout",
     "output_type": "stream",
     "text": [
      "84\n"
     ]
    },
    {
     "data": {
      "text/plain": "<Figure size 432x288 with 1 Axes>",
      "image/png": "[encoded data removed]"
     },
     "metadata": {
      "needs_background": "light"
     },
     "output_type": "display_data"
    }
   ],
   "source": [
    "profits_u,betting_vectors_u,arb_ids_u=testing.test(p=1,matchids=matchids,res_engine=result_engine,engine=engine,weighted=True)\n",
    "\n",
    "values_u = []\n",
    "for i in range(len(profits_u)):\n",
    "    values_u.append(profits_u[i]/sum(betting_vectors_u[i]))\n",
    "\n",
    "plt.boxplot(values_u)\n",
    "plt.title(\"Profits from uniformed weights variant\")\n",
    "plt.show()\n",
    "#logarithmic scale"
   ],
   "metadata": {
    "collapsed": false
   }
  }
 ],
 "metadata": {
  "kernelspec": {
   "display_name": "Python 3",
   "language": "python",
   "name": "python3"
  },
  "language_info": {
   "codemirror_mode": {
    "name": "ipython",
    "version": 2
   },
   "file_extension": ".py",
   "mimetype": "text/x-python",
   "name": "python",
   "nbconvert_exporter": "python",
   "pygments_lexer": "ipython2",
   "version": "2.7.6"
  }
 },
 "nbformat": 4,
 "nbformat_minor": 0
}
