{
 "cells": [
  {
   "cell_type": "code",
   "execution_count": 1,
   "metadata": {
    "collapsed": true
   },
   "outputs": [],
   "source": [
    "%load_ext autoreload\n",
    "%autoreload 2\n",
    "\n"
   ]
  },
  {
   "cell_type": "code",
   "execution_count": 2,
   "outputs": [
    {
     "name": "stderr",
     "output_type": "stream",
     "text": [
      "C:\\Users\\zdesi\\anaconda3\\lib\\site-packages\\paramiko\\transport.py:219: CryptographyDeprecationWarning: Blowfish has been deprecated\n",
      "  \"class\": algorithms.Blowfish,\n"
     ]
    }
   ],
   "source": [
    "from sqlalchemy import create_engine\n",
    "from sshtunnel import SSHTunnelForwarder\n",
    "import testing\n",
    "import matplotlib.pyplot as plt\n",
    "from time import time\n",
    "import numpy as np\n",
    "ip = \"147.32.83.171\""
   ],
   "metadata": {
    "collapsed": false
   }
  },
  {
   "cell_type": "code",
   "execution_count": 4,
   "outputs": [
    {
     "name": "stdout",
     "output_type": "stream",
     "text": [
      "completed\n"
     ]
    }
   ],
   "source": [
    "f = open(\"txt_files/found_arb.txt\")\n",
    "ids = f.read()\n",
    "ids = ids.split(\"\\n\")\n",
    "ids = [i for i in ids[:-1]]\n",
    "\n",
    "ssh_tunnel = SSHTunnelForwarder(\n",
    "    ip,\n",
    "        ssh_username='syrovzde',\n",
    "        ssh_private_key='C:\\\\Users\\\\zdesi\\\\.ssh\\\\syrovzde_rsa',\n",
    "        remote_bind_address=('localhost', 5432)\n",
    "    )\n",
    "ssh_tunnel.start()\n",
    "engine = create_engine(\"postgresql://{user}@{host}:{port}/{db}\".format(\n",
    "        host='localhost',\n",
    "        port=ssh_tunnel.local_bind_port,\n",
    "        user='syrovzde',\n",
    "        db='asianodds'\n",
    "    ))\n",
    "result_engine = create_engine(\"postgresql://{user}@{host}:{port}/{db}\".format(\n",
    "        host='localhost',\n",
    "        port=ssh_tunnel.local_bind_port,\n",
    "        user='syrovzde',\n",
    "        db='betexplorer'\n",
    "    ))\n",
    "print(\"completed\")\n"
   ],
   "metadata": {
    "collapsed": false
   }
  },
  {
   "cell_type": "code",
   "execution_count": 15,
   "outputs": [],
   "source": [
    "matchids = []\n",
    "for i in ids:\n",
    "    if i not in matchids:\n",
    "        matchids.append(i)"
   ],
   "metadata": {
    "collapsed": false
   }
  },
  {
   "cell_type": "code",
   "execution_count": 16,
   "outputs": [
    {
     "name": "stdout",
     "output_type": "stream",
     "text": [
      "1562868529\n",
      "1563026767\n",
      "1563108486\n",
      "1563032872\n",
      "1124895\n",
      "1125355\n",
      "1069731784\n",
      "-818990875\n",
      "1563196446\n",
      "1563173599\n",
      "1562944376\n",
      "1563026806\n",
      "1563272518\n",
      "1563076444\n",
      "1563076041\n",
      "1563075993\n",
      "1563076275\n",
      "1563076246\n",
      "1563137534\n",
      "1563278866\n",
      "1563290671\n",
      "1563344125\n",
      "1563327032\n",
      "1563330733\n",
      "1563278880\n",
      "1563278909\n",
      "1563316090\n",
      "1563347359\n",
      "1563309882\n",
      "1563278997\n",
      "1563415916\n",
      "1563212686\n",
      "1563447847\n",
      "1563170318\n",
      "1563459710\n",
      "1563479791\n",
      "1563287438\n",
      "1563298350\n",
      "1563484566\n",
      "1563330633\n",
      "1563330225\n",
      "1563330402\n",
      "1563330204\n",
      "1563330435\n",
      "1563330392\n",
      "1563330303\n",
      "1563567614\n",
      "1563330411\n",
      "1563582455\n",
      "1563548691\n",
      "1563548349\n",
      "1563548696\n",
      "1563567088\n",
      "1563576622\n",
      "1563611391\n",
      "1563610244\n",
      "1563631135\n",
      "1563610241\n",
      "1563631133\n",
      "1563610237\n",
      "1563436869\n",
      "1563673298\n",
      "1563673296\n",
      "1563700816\n",
      "1563714589\n",
      "1563781645\n",
      "1564030349\n",
      "1563972354\n",
      "1563946046\n",
      "1563941912\n",
      "1563861593\n",
      "1563960777\n",
      "1563861358\n",
      "1563821891\n",
      "1564011560\n",
      "1564012012\n",
      "1563861184\n",
      "1563861055\n",
      "1563994527\n",
      "1564034875\n",
      "1564083301\n",
      "1563934490\n",
      "1564039918\n",
      "1564133487\n"
     ]
    }
   ],
   "source": [
    "profits,betting_vectors,arb_ids=testing.test(p=1,match_ids=matchids,res_engine=result_engine,engine=engine,weighted=False)\n"
   ],
   "metadata": {
    "collapsed": false
   }
  },
  {
   "cell_type": "code",
   "execution_count": 17,
   "outputs": [
    {
     "data": {
      "text/plain": "<Figure size 432x288 with 1 Axes>",
      "image/png": "[encoded data removed]"
     },
     "metadata": {
      "needs_background": "light"
     },
     "output_type": "display_data"
    }
   ],
   "source": [
    "\n",
    "\n",
    "\n",
    "last_arb = 0\n",
    "hist = []\n",
    "count = 0\n",
    "for arb in arb_ids:\n",
    "    if count == 0:\n",
    "        count = 1\n",
    "        last_arb = arb\n",
    "        continue\n",
    "    if last_arb == arb:\n",
    "        count += 1\n",
    "        last_arb = arb\n",
    "        continue\n",
    "    hist.append(count)\n",
    "    count = 1\n",
    "    last_arb = arb\n",
    "\n",
    "\n",
    "plt.hist(hist)\n",
    "plt.title(\"Amount of arbitrages per match\")\n",
    "plt.xlabel(\"|Arbitrage|\")\n",
    "plt.ylabel(\"Number of matches\")\n",
    "plt.show()\n"
   ],
   "metadata": {
    "collapsed": false
   }
  },
  {
   "cell_type": "code",
   "execution_count": 18,
   "outputs": [
    {
     "data": {
      "text/plain": "<Figure size 432x288 with 1 Axes>",
      "image/png": "[encoded data removed]"
     },
     "metadata": {
      "needs_background": "light"
     },
     "output_type": "display_data"
    }
   ],
   "source": [
    "values = []\n",
    "for i in range(len(profits)):\n",
    "    values.append(profits[i]/sum(betting_vectors[i]))\n",
    "\n",
    "plt.boxplot(values)\n",
    "plt.title(\"Profits from the bets unweighted variant\")\n",
    "plt.ylabel('Value')\n",
    "plt.yscale('log')\n",
    "plt.show()"
   ],
   "metadata": {
    "collapsed": false
   }
  },
  {
   "cell_type": "code",
   "execution_count": 19,
   "outputs": [
    {
     "name": "stdout",
     "output_type": "stream",
     "text": [
      "1562868529\n",
      "1563026767\n",
      "1563108486\n",
      "1563032872\n",
      "1124895\n",
      "1125355\n",
      "1069731784\n",
      "-818990875\n",
      "1563196446\n",
      "1563173599\n",
      "1562944376\n",
      "1563026806\n",
      "1563272518\n",
      "1563076444\n",
      "1563076041\n",
      "1563075993\n",
      "1563076275\n",
      "1563076246\n",
      "1563137534\n",
      "1563278866\n",
      "1563290671\n",
      "1563344125\n",
      "1563327032\n",
      "1563330733\n",
      "1563278880\n",
      "1563278909\n",
      "1563316090\n",
      "1563347359\n",
      "1563309882\n",
      "1563278997\n",
      "1563415916\n",
      "1563212686\n",
      "1563447847\n",
      "1563170318\n",
      "1563459710\n",
      "1563479791\n",
      "1563287438\n",
      "1563298350\n",
      "1563484566\n",
      "1563330633\n",
      "1563330225\n",
      "1563330402\n",
      "1563330204\n",
      "1563330435\n",
      "1563330392\n",
      "1563330303\n",
      "1563567614\n",
      "1563330411\n",
      "1563582455\n",
      "1563548691\n",
      "1563548349\n",
      "1563548696\n",
      "1563567088\n",
      "1563576622\n",
      "1563611391\n",
      "1563610244\n",
      "1563631135\n",
      "1563610241\n",
      "1563631133\n",
      "1563610237\n",
      "1563436869\n",
      "1563673298\n",
      "1563673296\n",
      "1563700816\n",
      "1563714589\n",
      "1563781645\n",
      "1564030349\n",
      "1563972354\n",
      "1563946046\n",
      "1563941912\n",
      "1563861593\n",
      "1563960777\n",
      "1563861358\n",
      "1563821891\n",
      "1564011560\n",
      "1564012012\n",
      "1563861184\n",
      "1563861055\n",
      "1563994527\n",
      "1564034875\n",
      "1564083301\n",
      "1563934490\n",
      "1564039918\n",
      "1564133487\n"
     ]
    },
    {
     "data": {
      "text/plain": "<Figure size 432x288 with 1 Axes>",
      "image/png": "[encoded data removed]"
     },
     "metadata": {
      "needs_background": "light"
     },
     "output_type": "display_data"
    }
   ],
   "source": [
    "profits_w,betting_vectors_w,arb_ids_w=testing.test(p=1,match_ids=matchids,res_engine=result_engine,engine=engine,weighted=True)\n",
    "\n",
    "values_w = []\n",
    "for i in range(len(profits_w)):\n",
    "    values_w.append(profits_w[i]/sum(betting_vectors_w[i]))\n",
    "\n",
    "plt.boxplot(values_w)\n",
    "plt.title(\"Profits from the  global weights variant\")\n",
    "plt.ylabel('Value')\n",
    "plt.yscale('log')\n",
    "plt.show()\n",
    "#logarithmic scale"
   ],
   "metadata": {
    "collapsed": false
   }
  },
  {
   "cell_type": "code",
   "execution_count": 22,
   "outputs": [
    {
     "data": {
      "text/plain": "<matplotlib.axes._subplots.AxesSubplot at 0x21483e37f40>"
     },
     "execution_count": 22,
     "metadata": {},
     "output_type": "execute_result"
    },
    {
     "data": {
      "text/plain": "<Figure size 432x288 with 1 Axes>",
      "image/png": "[encoded data removed]"
     },
     "metadata": {
      "needs_background": "light"
     },
     "output_type": "display_data"
    }
   ],
   "source": [
    "import pandas as pd\n",
    "df = pd.read_csv(\"csv_files/RebelBetting.csv\")\n",
    "df = df[df['BetType']== 'Arb']\n",
    "df[\"Percentage\"].plot.box(title='Rebelbetting')"
   ],
   "metadata": {
    "collapsed": false
   }
  },
  {
   "cell_type": "code",
   "execution_count": 23,
   "outputs": [
    {
     "name": "stdout",
     "output_type": "stream",
     "text": [
      "1562868529\n",
      "1563026767\n",
      "1563108486\n",
      "1563032872\n",
      "1124895\n",
      "1125355\n",
      "1069731784\n",
      "-818990875\n",
      "1563196446\n",
      "1563173599\n",
      "1562944376\n",
      "1563026806\n",
      "1563272518\n",
      "1563076444\n",
      "1563076041\n",
      "1563075993\n",
      "1563076275\n",
      "1563076246\n",
      "1563137534\n",
      "1563278866\n",
      "1563290671\n",
      "1563344125\n",
      "1563327032\n",
      "1563330733\n",
      "1563278880\n",
      "1563278909\n",
      "1563316090\n",
      "1563347359\n",
      "1563309882\n",
      "1563278997\n",
      "1563415916\n",
      "1563212686\n",
      "1563447847\n",
      "1563170318\n",
      "1563459710\n",
      "1563479791\n",
      "1563287438\n",
      "1563298350\n",
      "1563484566\n",
      "1563330633\n",
      "1563330225\n",
      "1563330402\n",
      "1563330204\n",
      "1563330435\n",
      "1563330392\n",
      "1563330303\n",
      "1563567614\n",
      "1563330411\n",
      "1563582455\n",
      "1563548691\n",
      "1563548349\n",
      "1563548696\n",
      "1563567088\n",
      "1563576622\n",
      "1563611391\n",
      "1563610244\n",
      "1563631135\n",
      "1563610241\n",
      "1563631133\n",
      "1563610237\n",
      "1563436869\n",
      "1563673298\n",
      "1563673296\n",
      "1563700816\n",
      "1563714589\n",
      "1563781645\n",
      "1564030349\n",
      "1563972354\n",
      "1563946046\n",
      "1563941912\n",
      "1563861593\n",
      "1563960777\n",
      "1563861358\n",
      "1563821891\n",
      "1564011560\n",
      "1564012012\n",
      "1563861184\n",
      "1563861055\n",
      "1563994527\n",
      "1564034875\n",
      "1564083301\n",
      "1563934490\n",
      "1564039918\n",
      "1564133487\n"
     ]
    },
    {
     "data": {
      "text/plain": "<Figure size 432x288 with 1 Axes>",
      "image/png": "[encoded data removed]"
     },
     "metadata": {
      "needs_background": "light"
     },
     "output_type": "display_data"
    }
   ],
   "source": [
    "profits_u,betting_vectors_u,arb_ids_u=testing.test(p=1,match_ids=matchids,res_engine=result_engine,engine=engine,weighted=True,uniform_weights=True)\n",
    "\n",
    "values_u = []\n",
    "for i in range(len(profits_u)):\n",
    "    values_u.append(profits_u[i]/sum(betting_vectors_u[i]))\n",
    "\n",
    "plt.boxplot(values_u)\n",
    "plt.title(\"Profits from uniformed weights variant\")\n",
    "plt.ylabel('Value')\n",
    "plt.yscale('log')\n",
    "plt.show()\n",
    "#logarithmic scale"
   ],
   "metadata": {
    "collapsed": false
   }
  },
  {
   "cell_type": "code",
   "execution_count": 24,
   "outputs": [
    {
     "name": "stdout",
     "output_type": "stream",
     "text": [
      "1562868529\n",
      "here\n",
      "1563026767\n",
      "here\n",
      "1563108486\n",
      "here\n",
      "1563032872\n",
      "here\n",
      "1124895\n",
      "here\n",
      "1125355\n",
      "here\n",
      "1069731784\n",
      "here\n",
      "-818990875\n",
      "here\n",
      "1563196446\n",
      "here\n",
      "1563173599\n",
      "here\n",
      "1562944376\n",
      "here\n",
      "1563026806\n",
      "here\n",
      "1563272518\n",
      "here\n",
      "1563076444\n",
      "here\n",
      "1563076041\n",
      "here\n",
      "1563075993\n",
      "here\n",
      "1563076275\n",
      "here\n",
      "1563076246\n",
      "here\n",
      "1563137534\n",
      "here\n",
      "1563278866\n",
      "here\n",
      "1563290671\n",
      "here\n",
      "1563344125\n",
      "here\n",
      "1563327032\n",
      "here\n",
      "1563330733\n",
      "here\n",
      "1563278880\n",
      "here\n",
      "1563278909\n",
      "here\n",
      "1563316090\n",
      "here\n",
      "1563347359\n",
      "here\n",
      "1563309882\n",
      "here\n",
      "1563278997\n",
      "here\n",
      "1563415916\n",
      "here\n",
      "1563212686\n",
      "here\n",
      "1563447847\n",
      "here\n",
      "1563170318\n",
      "here\n",
      "1563459710\n",
      "here\n",
      "1563479791\n",
      "here\n",
      "1563287438\n",
      "here\n",
      "1563298350\n",
      "here\n",
      "1563484566\n",
      "here\n",
      "1563330633\n",
      "here\n",
      "1563330225\n",
      "here\n",
      "1563330402\n",
      "here\n",
      "1563330204\n",
      "here\n",
      "1563330435\n",
      "here\n",
      "1563330392\n",
      "here\n",
      "1563330303\n",
      "here\n",
      "1563567614\n",
      "here\n",
      "1563330411\n",
      "here\n",
      "1563582455\n",
      "here\n",
      "1563548691\n",
      "here\n",
      "1563548349\n",
      "here\n",
      "1563548696\n",
      "here\n",
      "1563567088\n",
      "here\n",
      "1563576622\n",
      "here\n",
      "1563611391\n",
      "here\n",
      "1563610244\n",
      "here\n",
      "1563631135\n",
      "here\n",
      "1563610241\n",
      "here\n",
      "1563631133\n",
      "here\n",
      "1563610237\n",
      "here\n",
      "1563436869\n",
      "here\n",
      "1563673298\n",
      "here\n",
      "1563673296\n",
      "here\n",
      "1563700816\n",
      "here\n",
      "1563714589\n",
      "here\n",
      "1563781645\n",
      "here\n",
      "1564030349\n",
      "here\n",
      "1563972354\n",
      "here\n",
      "1563946046\n",
      "here\n",
      "1563941912\n",
      "here\n",
      "1563861593\n",
      "here\n",
      "1563960777\n",
      "here\n",
      "1563861358\n",
      "here\n",
      "1563821891\n",
      "here\n",
      "1564011560\n",
      "here\n",
      "1564012012\n",
      "here\n",
      "1563861184\n",
      "here\n",
      "1563861055\n",
      "here\n",
      "1563994527\n",
      "here\n",
      "1564034875\n",
      "here\n",
      "1564083301\n",
      "here\n",
      "1563934490\n",
      "here\n",
      "1564039918\n",
      "here\n",
      "1564133487\n",
      "here\n"
     ]
    },
    {
     "data": {
      "text/plain": "[0.0006605019815059645,\n 0.0007001405434068038,\n 0.0006645743806388576,\n 0.0008147131601482445,\n 0.0007483629560335914,\n 0.0005905000354300021,\n 0.0007351589781290203,\n 0.00035932446999640676,\n 0.000721240533717995,\n 0.0005929439667951378,\n 0.0007281465030765018,\n 0.0005136766405547287,\n 0.0007542900245144258,\n 0.0007668711656441718,\n 0.0006931207762952695,\n 0.000683526999316473,\n 0.0006985679357318294,\n 0.0006734759575817999,\n 0.00970876433695693,\n 0.0024186096874322517,\n 0.0007549420393249308,\n 0.0007388252678241596,\n 0.0007020466126918288,\n 0.0382225626565721,\n 0.00033647375504706806,\n 0.0006738544474393076,\n 0.0007889857588069638,\n 0.0005467468562056094,\n 0.0008499606893181189,\n 0.0008550772348512137,\n 0.00023577864352312792,\n 0.0003354579000335458,\n 0.0006949270326615718,\n 0.0009037035028105053,\n 0.0009211134063998465,\n 0.000648974290234518,\n 0.019487124516602235,\n 0.0023773373918977883,\n 0.0006612860028898241,\n 0.0006771353561609616,\n 0.0007173967082855161,\n 0.00028226983775806125,\n 0.0006584605281832227,\n 0.0006190992106485065,\n 0.0005955926146515784,\n 0.26315812345753953,\n 0.00039868974558204405,\n 0.0003448275862069358,\n 0.0007078393204742523,\n 0.0012594458438287153,\n 0.9296824368114059,\n 0.0007173601147776184,\n 0.00024291224795042787,\n 0.01574100824317507,\n 0.00034112229234180454,\n 0.0007097232079489,\n 0.00039242737310372916,\n 0.010209708192577832,\n 0.047124445491054524,\n 0.0008242324335462132,\n 0.0006148170919151552,\n 0.0006119951040391676,\n 0.0008120178643930628,\n 0.0006839664582849105,\n 0.0005769771714651486,\n 0.0006970268320479046,\n 0.0007224128589488893,\n 0.00037227538010967744,\n 0.0003722753801096563,\n 0.000635930047694826,\n 0.0007538635506973238,\n 0.0002245172878312651,\n 0.00035909227349316316,\n 0.0010103561505430951,\n 0.001005025125628112,\n 0.001005025125628112,\n 0.0010012515644555694,\n 0.0009930486593843098,\n 0.0009871668311944718,\n 0.0009893643334157804,\n 0.0009952724558347564,\n 0.000662471016893011,\n 0.0002669882552570338,\n 0.0002576157660848844,\n 0.20936574236972644,\n 0.0006772773450728843,\n 0.7728251515706391,\n 0.000530362447603156,\n 1.022933613648813,\n 0.024321838613730835,\n 0.0006605019815060197,\n 0.000654022236756124,\n 0.0006960153123368715,\n 0.01305899653328338,\n 0.07318106958212736,\n 0.0006484390451086621,\n 0.0007862468053550871,\n 0.057973019646446446,\n 0.0006985679357317499,\n 0.0008314279775513974,\n 0.0007844338326734028,\n 0.0006475916717448502,\n 0.0006982021295164157,\n 0.0006769451477635784,\n 0.0008309098462816784,\n 0.0003714365307827814,\n 0.0003790391357908135,\n 0.00027135201139676904,\n 0.00027135201139670735,\n 0.0007867820613690008,\n 0.0006621881597854764,\n 2.5765569081596906,\n 0.00040395879620283326,\n 0.0007404664938911515,\n 0.00037257824143070576,\n 0.00025442055718100575,\n 0.00036643459142543056]"
     },
     "execution_count": 24,
     "metadata": {},
     "output_type": "execute_result"
    }
   ],
   "source": [
    "profits_lam,betting_vectors_lam,arb_ids_lam=testing.test(p=1,match_ids=matchids,res_engine=result_engine,engine=engine,weighted=True,lambda_weights=True)\n",
    "\n",
    "values_lam = []\n",
    "for i in range(len(profits_lam)):\n",
    "    values_lam.append(profits_lam[i]/sum(betting_vectors_lam[i]))\n",
    "values_lam"
   ],
   "metadata": {
    "collapsed": false
   }
  },
  {
   "cell_type": "code",
   "execution_count": 25,
   "outputs": [
    {
     "data": {
      "text/plain": "<Figure size 432x288 with 1 Axes>",
      "image/png": "[encoded data removed]"
     },
     "metadata": {
      "needs_background": "light"
     },
     "output_type": "display_data"
    }
   ],
   "source": [
    "values_lam = np.array(values_lam)\n",
    "tmp = values_lam[values_lam <1]\n",
    "plt.boxplot(tmp)\n",
    "plt.title(\"Profits from lambda weights variant\")\n",
    "plt.ylabel('Value')\n",
    "plt.yscale('log')\n",
    "plt.show()"
   ],
   "metadata": {
    "collapsed": false
   }
  }
 ],
 "metadata": {
  "kernelspec": {
   "display_name": "Python 3",
   "language": "python",
   "name": "python3"
  },
  "language_info": {
   "codemirror_mode": {
    "name": "ipython",
    "version": 2
   },
   "file_extension": ".py",
   "mimetype": "text/x-python",
   "name": "python",
   "nbconvert_exporter": "python",
   "pygments_lexer": "ipython2",
   "version": "2.7.6"
  }
 },
 "nbformat": 4,
 "nbformat_minor": 0
}
